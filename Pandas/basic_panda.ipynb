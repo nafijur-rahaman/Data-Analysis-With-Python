{
 "cells": [
  {
   "cell_type": "markdown",
   "id": "7bc5baef",
   "metadata": {},
   "source": [
    "## Different File loading in pandas"
   ]
  },
  {
   "cell_type": "code",
   "execution_count": null,
   "id": "bd9adfcf",
   "metadata": {},
   "outputs": [
    {
     "name": "stdout",
     "output_type": "stream",
     "text": [
      "  StudentID          FullName  Data Structure Marks  Algorithm Marks  \\\n",
      "0    PH1001       Alif Rahman                    85               85   \n",
      "1    PH1002     Fatima Akhter                    92               92   \n",
      "2    PH1004  Jannatul Ferdous                    78               78   \n",
      "\n",
      "   Python Marks  \n",
      "0            88  \n",
      "1            90  \n",
      "2            82  \n"
     ]
    }
   ],
   "source": [
    "import pandas as pd\n",
    "\n",
    "#csv file\n",
    "\n",
    "csv_data = pd.read_csv(\"./student_data.csv\")\n",
    "\n",
    "# excel_data\n",
    "\n",
    "excel_file = pd.read_excel('phitron_student_marks.xlsx')\n",
    "\n",
    "#parquet file\n",
    "\n",
    "parquet_file = pd.read_parquet('students.parquet')\n",
    "\n",
    "# print(parquet_file)\n",
    "\n",
    "# json file\n",
    "\n",
    "json_file = pd.read_json('data.json')\n",
    "\n",
    "# print(json_file)\n"
   ]
  }
 ],
 "metadata": {
  "kernelspec": {
   "display_name": "Python 3",
   "language": "python",
   "name": "python3"
  },
  "language_info": {
   "codemirror_mode": {
    "name": "ipython",
    "version": 3
   },
   "file_extension": ".py",
   "mimetype": "text/x-python",
   "name": "python",
   "nbconvert_exporter": "python",
   "pygments_lexer": "ipython3",
   "version": "3.12.2"
  }
 },
 "nbformat": 4,
 "nbformat_minor": 5
}
