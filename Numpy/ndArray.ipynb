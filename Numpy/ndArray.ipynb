{
 "cells": [
  {
   "cell_type": "code",
   "execution_count": null,
   "id": "4672a29c",
   "metadata": {},
   "outputs": [
    {
     "name": "stdout",
     "output_type": "stream",
     "text": [
      "<class 'numpy.ndarray'>\n"
     ]
    }
   ],
   "source": [
    "import numpy as np\n",
    "\n",
    "# 1d numpy array\n",
    "arr = np.array([1, 2, 3, 4, 5])\n",
    "\n",
    "# 2d numpy array\n",
    "arr2 = np.array(\n",
    "    [    #col\n",
    "        [1, 2, 3], #row\n",
    "        [4, 5, 6],\n",
    "    ]\n",
    ")\n",
    "\n",
    "# 3d numpy array\n",
    "arr3 = np.array(\n",
    "    [\n",
    "        [\n",
    "            [1, 2, 3],[4, 5, 6]\n",
    "        ],\n",
    "\n",
    "        [\n",
    "            [2, 4, 6],[7, 8, 9],\n",
    "        ]\n",
    "    ]\n",
    ")\n",
    "\n",
    "print(type(arr3))"
   ]
  },
  {
   "cell_type": "markdown",
   "id": "ffa5f6d5",
   "metadata": {},
   "source": [
    "Array Attributes"
   ]
  },
  {
   "cell_type": "code",
   "execution_count": 16,
   "id": "ef0c799b-5d3b-4128-ba65-db096141de4f",
   "metadata": {},
   "outputs": [
    {
     "name": "stdout",
     "output_type": "stream",
     "text": [
      "(5,)\n",
      "(2, 3)\n",
      "(2, 2, 3)\n",
      "int32\n",
      "int32\n",
      "int32\n",
      "5\n",
      "6\n",
      "12\n"
     ]
    }
   ],
   "source": [
    "#dimension\n",
    "\n",
    "# print(arr.ndim)\n",
    "# print(arr2.ndim)\n",
    "# print(arr3.ndim)\n",
    "\n",
    "\n",
    "#shape\n",
    "\n",
    "print(arr.shape) #(c)\n",
    "print(arr2.shape) #(r,c)\n",
    "print(arr3.shape) #(f,r,c)\n",
    "\n",
    "\n",
    "#data type\n",
    "\n",
    "print(arr.dtype)\n",
    "print(arr2.dtype)\n",
    "print(arr3.dtype)\n",
    "\n",
    "#size\n",
    "\n",
    "print(arr.size)\n",
    "print(arr2.size)\n",
    "print(arr3.size)\n"
   ]
  }
 ],
 "metadata": {
  "kernelspec": {
   "display_name": "Python 3",
   "language": "python",
   "name": "python3"
  },
  "language_info": {
   "codemirror_mode": {
    "name": "ipython",
    "version": 3
   },
   "file_extension": ".py",
   "mimetype": "text/x-python",
   "name": "python",
   "nbconvert_exporter": "python",
   "pygments_lexer": "ipython3",
   "version": "3.12.2"
  }
 },
 "nbformat": 4,
 "nbformat_minor": 5
}
