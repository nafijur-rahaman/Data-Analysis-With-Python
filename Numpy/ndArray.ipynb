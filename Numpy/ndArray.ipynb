{
 "cells": [
  {
   "cell_type": "code",
   "execution_count": null,
   "id": "4672a29c",
   "metadata": {},
   "outputs": [
    {
     "name": "stdout",
     "output_type": "stream",
     "text": [
      "<class 'numpy.ndarray'>\n"
     ]
    }
   ],
   "source": [
    "import numpy as np\n",
    "\n",
    "# 1d numpy array\n",
    "arr = np.array([1, 2, 3, 4, 5])\n",
    "\n",
    "# 2d numpy array\n",
    "arr2 = np.array(\n",
    "    [    #col\n",
    "        [1, 2, 3], #row\n",
    "        [4, 5, 6],\n",
    "    ]\n",
    ")\n",
    "\n",
    "# 3d numpy array\n",
    "arr3 = np.array(\n",
    "    [\n",
    "        [\n",
    "            [1, 2, 3],[4, 5, 6]\n",
    "        ],\n",
    "\n",
    "        [\n",
    "            [2, 4, 6],[7, 8, 9],\n",
    "        ]\n",
    "    ]\n",
    ")\n",
    "\n",
    "print(type(arr3))"
   ]
  },
  {
   "cell_type": "markdown",
   "id": "ffa5f6d5",
   "metadata": {},
   "source": [
    "##Array Attributes"
   ]
  },
  {
   "cell_type": "code",
   "execution_count": 16,
   "id": "ef0c799b-5d3b-4128-ba65-db096141de4f",
   "metadata": {},
   "outputs": [
    {
     "name": "stdout",
     "output_type": "stream",
     "text": [
      "(5,)\n",
      "(2, 3)\n",
      "(2, 2, 3)\n",
      "int32\n",
      "int32\n",
      "int32\n",
      "5\n",
      "6\n",
      "12\n"
     ]
    }
   ],
   "source": [
    "#dimension\n",
    "\n",
    "# print(arr.ndim)\n",
    "# print(arr2.ndim)\n",
    "# print(arr3.ndim)\n",
    "\n",
    "\n",
    "#shape\n",
    "\n",
    "print(arr.shape) #(c)\n",
    "print(arr2.shape) #(r,c)\n",
    "print(arr3.shape) #(f,r,c)\n",
    "\n",
    "\n",
    "#data type\n",
    "\n",
    "print(arr.dtype)\n",
    "print(arr2.dtype)\n",
    "print(arr3.dtype)\n",
    "\n",
    "#size\n",
    "\n",
    "print(arr.size)\n",
    "print(arr2.size)\n",
    "print(arr3.size)\n"
   ]
  },
  {
   "cell_type": "markdown",
   "id": "3358bfb2",
   "metadata": {},
   "source": [
    "##ndArray Data Type"
   ]
  },
  {
   "cell_type": "code",
   "execution_count": null,
   "id": "e0bd4c75",
   "metadata": {},
   "outputs": [
    {
     "name": "stdout",
     "output_type": "stream",
     "text": [
      "int32\n",
      "float64\n",
      "<U11\n"
     ]
    }
   ],
   "source": [
    "arr = np.array([1,2,3])\n",
    "print(arr.dtype)\n",
    "\n",
    "\n",
    "arr = np.array([1.5,3,2,6]) #upcasted to float\n",
    "print(arr.dtype)\n",
    "\n",
    "arr = np.array([1,2,3,4,True,'tanjid'])\n",
    "print(arr.dtype)  #upcasted to string"
   ]
  },
  {
   "cell_type": "markdown",
   "id": "05409d8d",
   "metadata": {},
   "source": [
    "##Selecting a data type for an Numpy Array"
   ]
  },
  {
   "cell_type": "code",
   "execution_count": null,
   "id": "d73e7580",
   "metadata": {},
   "outputs": [
    {
     "name": "stdout",
     "output_type": "stream",
     "text": [
      "int64\n",
      "int32\n"
     ]
    }
   ],
   "source": [
    "arr = np.array([1,2,3],dtype=np.int64) #method 1 to select data type\n",
    "print(arr.dtype)\n",
    "\n",
    "arr = arr.astype(np.int32) #method 2 choose data \n",
    "print(arr.dtype)"
   ]
  },
  {
   "cell_type": "markdown",
   "id": "5c9831fe",
   "metadata": {},
   "source": [
    "##ndArray Creation from existing data "
   ]
  },
  {
   "cell_type": "code",
   "execution_count": 25,
   "id": "fbe2f4a2",
   "metadata": {},
   "outputs": [
    {
     "name": "stdout",
     "output_type": "stream",
     "text": [
      "[['a' '1']\n",
      " ['b' '2']\n",
      " ['c' '3']]\n",
      "<class 'numpy.ndarray'>\n",
      "<U11\n",
      "(3, 2)\n",
      "2\n",
      "6\n"
     ]
    }
   ],
   "source": [
    "import numpy as np\n",
    "\n",
    "# From List\n",
    "lst = [1,2,3,4,5,6]\n",
    "\n",
    "arr = np.array(lst,dtype=np.int32)\n",
    "# print(arr)\n",
    "# print(type(arr))\n",
    "# print(arr.dtype)\n",
    "\n",
    "# from mixed value\n",
    "mixed_lst = [1,2,3,4,5,6,'tanjid']\n",
    "arr = np.array(mixed_lst)\n",
    "\n",
    "# print(arr)\n",
    "# print(type(arr)) #convert dtype to string \n",
    "# print(arr.dtype)\n",
    "\n",
    "# tuple\n",
    "\n",
    "tuple = (1,2,3,4,5,6)\n",
    "arr = np.array(tuple,dtype=np.int64)\n",
    "# print(arr)\n",
    "# print(type(arr))\n",
    "# print(arr.dtype)\n",
    "\n",
    "#set\n",
    "set = {1,2,3,4,5,6}\n",
    "# arr = np.array(set)\n",
    "# print(arr)\n",
    "# print(type(arr))\n",
    "# print(arr.dtype) #when we create np array from set it dtype will be object type\n",
    "\n",
    "\n",
    "#dictionary\n",
    "\n",
    "dict  = {\"a\":1,\"b\":2,\"c\":3}\n",
    "arr= np.array(dict)\n",
    "# print(arr)\n",
    "# print(type(arr))\n",
    "# print(arr.dtype) # when we give full dict then dtype will be object\n",
    "\n",
    "arr = np.array(list(dict.values()))\n",
    "\n",
    "# print(arr)\n",
    "# print(type(arr))\n",
    "# print(arr.dtype) \n",
    "\n",
    "arr = np.array(list(dict.keys()))\n",
    "\n",
    "# print(arr)\n",
    "# print(type(arr))\n",
    "# print(arr.dtype) # when we give full dict then dtype will be object\n",
    "\n",
    "arr = np.array(list(dict.items()))\n",
    "\n",
    "print(arr)\n",
    "print(type(arr))\n",
    "print(arr.dtype)\n",
    "print(arr.shape)\n",
    "print(arr.ndim)\n",
    "print(arr.size)\n"
   ]
  }
 ],
 "metadata": {
  "kernelspec": {
   "display_name": "Python 3",
   "language": "python",
   "name": "python3"
  },
  "language_info": {
   "codemirror_mode": {
    "name": "ipython",
    "version": 3
   },
   "file_extension": ".py",
   "mimetype": "text/x-python",
   "name": "python",
   "nbconvert_exporter": "python",
   "pygments_lexer": "ipython3",
   "version": "3.12.2"
  }
 },
 "nbformat": 4,
 "nbformat_minor": 5
}
