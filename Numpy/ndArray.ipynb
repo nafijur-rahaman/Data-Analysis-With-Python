{
 "cells": [
  {
   "cell_type": "code",
   "execution_count": null,
   "id": "4672a29c",
   "metadata": {},
   "outputs": [
    {
     "name": "stdout",
     "output_type": "stream",
     "text": [
      "<class 'numpy.ndarray'>\n"
     ]
    }
   ],
   "source": [
    "import numpy as np\n",
    "\n",
    "# 1d numpy array\n",
    "arr = np.array([1, 2, 3, 4, 5])\n",
    "\n",
    "# 2d numpy array\n",
    "arr2 = np.array(\n",
    "    [    #col\n",
    "        [1, 2, 3], #row\n",
    "        [4, 5, 6],\n",
    "    ]\n",
    ")\n",
    "\n",
    "# 3d numpy array\n",
    "arr3 = np.array(\n",
    "    [\n",
    "        [\n",
    "            [1, 2, 3],[4, 5, 6]\n",
    "        ],\n",
    "\n",
    "        [\n",
    "            [2, 4, 6],[7, 8, 9],\n",
    "        ]\n",
    "    ]\n",
    ")\n",
    "\n",
    "print(type(arr3))"
   ]
  },
  {
   "cell_type": "markdown",
   "id": "ffa5f6d5",
   "metadata": {},
   "source": [
    "##Array Attributes"
   ]
  },
  {
   "cell_type": "code",
   "execution_count": 16,
   "id": "ef0c799b-5d3b-4128-ba65-db096141de4f",
   "metadata": {},
   "outputs": [
    {
     "name": "stdout",
     "output_type": "stream",
     "text": [
      "(5,)\n",
      "(2, 3)\n",
      "(2, 2, 3)\n",
      "int32\n",
      "int32\n",
      "int32\n",
      "5\n",
      "6\n",
      "12\n"
     ]
    }
   ],
   "source": [
    "#dimension\n",
    "\n",
    "# print(arr.ndim)\n",
    "# print(arr2.ndim)\n",
    "# print(arr3.ndim)\n",
    "\n",
    "\n",
    "#shape\n",
    "\n",
    "print(arr.shape) #(c)\n",
    "print(arr2.shape) #(r,c)\n",
    "print(arr3.shape) #(f,r,c)\n",
    "\n",
    "\n",
    "#data type\n",
    "\n",
    "print(arr.dtype)\n",
    "print(arr2.dtype)\n",
    "print(arr3.dtype)\n",
    "\n",
    "#size\n",
    "\n",
    "print(arr.size)\n",
    "print(arr2.size)\n",
    "print(arr3.size)\n"
   ]
  },
  {
   "cell_type": "markdown",
   "id": "3358bfb2",
   "metadata": {},
   "source": [
    "##ndArray Data Type"
   ]
  },
  {
   "cell_type": "code",
   "execution_count": null,
   "id": "e0bd4c75",
   "metadata": {},
   "outputs": [
    {
     "name": "stdout",
     "output_type": "stream",
     "text": [
      "int32\n",
      "float64\n",
      "<U11\n"
     ]
    }
   ],
   "source": [
    "arr = np.array([1,2,3])\n",
    "print(arr.dtype)\n",
    "\n",
    "\n",
    "arr = np.array([1.5,3,2,6]) #upcasted to float\n",
    "print(arr.dtype)\n",
    "\n",
    "arr = np.array([1,2,3,4,True,'tanjid'])\n",
    "print(arr.dtype)  #upcasted to string"
   ]
  },
  {
   "cell_type": "markdown",
   "id": "05409d8d",
   "metadata": {},
   "source": [
    "##Selecting a data type for an Numpy Array"
   ]
  },
  {
   "cell_type": "code",
   "execution_count": null,
   "id": "d73e7580",
   "metadata": {},
   "outputs": [
    {
     "name": "stdout",
     "output_type": "stream",
     "text": [
      "int64\n",
      "int32\n"
     ]
    }
   ],
   "source": [
    "arr = np.array([1,2,3],dtype=np.int64) #method 1 to select data type\n",
    "print(arr.dtype)\n",
    "\n",
    "arr = arr.astype(np.int32) #method 2 choose data \n",
    "print(arr.dtype)"
   ]
  },
  {
   "cell_type": "markdown",
   "id": "5c9831fe",
   "metadata": {},
   "source": [
    "##ndArray Creation from existing data "
   ]
  },
  {
   "cell_type": "code",
   "execution_count": 25,
   "id": "fbe2f4a2",
   "metadata": {},
   "outputs": [
    {
     "name": "stdout",
     "output_type": "stream",
     "text": [
      "[['a' '1']\n",
      " ['b' '2']\n",
      " ['c' '3']]\n",
      "<class 'numpy.ndarray'>\n",
      "<U11\n",
      "(3, 2)\n",
      "2\n",
      "6\n"
     ]
    }
   ],
   "source": [
    "import numpy as np\n",
    "\n",
    "# From List\n",
    "lst = [1,2,3,4,5,6]\n",
    "\n",
    "arr = np.array(lst,dtype=np.int32)\n",
    "# print(arr)\n",
    "# print(type(arr))\n",
    "# print(arr.dtype)\n",
    "\n",
    "# from mixed value\n",
    "mixed_lst = [1,2,3,4,5,6,'tanjid']\n",
    "arr = np.array(mixed_lst)\n",
    "\n",
    "# print(arr)\n",
    "# print(type(arr)) #convert dtype to string \n",
    "# print(arr.dtype)\n",
    "\n",
    "# tuple\n",
    "\n",
    "tuple = (1,2,3,4,5,6)\n",
    "arr = np.array(tuple,dtype=np.int64)\n",
    "# print(arr)\n",
    "# print(type(arr))\n",
    "# print(arr.dtype)\n",
    "\n",
    "#set\n",
    "set = {1,2,3,4,5,6}\n",
    "# arr = np.array(set)\n",
    "# print(arr)\n",
    "# print(type(arr))\n",
    "# print(arr.dtype) #when we create np array from set it dtype will be object type\n",
    "\n",
    "\n",
    "#dictionary\n",
    "\n",
    "dict  = {\"a\":1,\"b\":2,\"c\":3}\n",
    "arr= np.array(dict)\n",
    "# print(arr)\n",
    "# print(type(arr))\n",
    "# print(arr.dtype) # when we give full dict then dtype will be object\n",
    "\n",
    "arr = np.array(list(dict.values()))\n",
    "\n",
    "# print(arr)\n",
    "# print(type(arr))\n",
    "# print(arr.dtype) \n",
    "\n",
    "arr = np.array(list(dict.keys()))\n",
    "\n",
    "# print(arr)\n",
    "# print(type(arr))\n",
    "# print(arr.dtype) # when we give full dict then dtype will be object\n",
    "\n",
    "arr = np.array(list(dict.items()))\n",
    "\n",
    "print(arr)\n",
    "print(type(arr))\n",
    "print(arr.dtype)\n",
    "print(arr.shape)\n",
    "print(arr.ndim)\n",
    "print(arr.size)\n"
   ]
  },
  {
   "cell_type": "markdown",
   "id": "fddb518e",
   "metadata": {},
   "source": [
    "##Creating ndarray from scratch"
   ]
  },
  {
   "cell_type": "code",
   "execution_count": 2,
   "id": "b65946d2",
   "metadata": {},
   "outputs": [
    {
     "name": "stdout",
     "output_type": "stream",
     "text": [
      "[[1 1 1]\n",
      " [1 1 1]\n",
      " [1 1 1]\n",
      " [1 1 1]]\n",
      "<class 'numpy.ndarray'>\n",
      "int32\n",
      "(4, 3)\n",
      "2\n",
      "12\n"
     ]
    }
   ],
   "source": [
    "import numpy as np\n",
    "\n",
    "#zeros\n",
    "\n",
    "arr = np.zeros((3,3))  #row,col create np array based on given shape\n",
    "# print(arr)\n",
    "# print(type(arr))\n",
    "# print(arr.dtype)\n",
    "# print(arr.shape)\n",
    "# print(arr.ndim)\n",
    "# print(arr.size)\n",
    "\n",
    "arr2 = np.zeros_like(arr)\n",
    "# print(arr2)\n",
    "# print(type(arr2))\n",
    "# print(arr2.dtype)\n",
    "# print(arr2.shape)\n",
    "# print(arr2.ndim)\n",
    "# print(arr2.size)\n",
    "\n",
    "\n",
    "#ones\n",
    "\n",
    "arr3 = np.ones((3,3))\n",
    "# print(arr3)\n",
    "# print(type(arr3))\n",
    "# print(arr3.dtype)\n",
    "# print(arr3.shape)\n",
    "# print(arr3.ndim)\n",
    "# print(arr3.size)\n",
    "\n",
    "arr4 = np.ones_like(arr3) #create array like arr3\n",
    "# print(arr4)\n",
    "# print(type(arr4))\n",
    "# print(arr4.dtype)\n",
    "# print(arr4.shape)\n",
    "# print(arr4.ndim)\n",
    "# print(arr4.size)\n",
    "\n",
    "#full\n",
    "arr = np.full((4,3),1)\n",
    "\n",
    "print(arr)\n",
    "print(type(arr))\n",
    "print(arr.dtype)\n",
    "print(arr.shape)\n",
    "print(arr.ndim)\n",
    "print(arr.size)\n",
    "\n"
   ]
  },
  {
   "cell_type": "markdown",
   "id": "cee039af",
   "metadata": {},
   "source": [
    "##Array creation with random values"
   ]
  },
  {
   "cell_type": "code",
   "execution_count": 5,
   "id": "423e7938",
   "metadata": {},
   "outputs": [
    {
     "name": "stdout",
     "output_type": "stream",
     "text": [
      "[[4.86967582 2.17278145 1.72195338]\n",
      " [4.52686189 7.27171852 8.74359767]\n",
      " [7.56559008 3.01282404 6.85125607]]\n",
      "<class 'numpy.ndarray'>\n",
      "float64\n",
      "(3, 3)\n",
      "2\n",
      "9\n"
     ]
    }
   ],
   "source": [
    "# np.random.rand(shape) \n",
    "\n",
    "arr = np.random.rand(3,3)\n",
    "# print(arr)\n",
    "# print(type(arr))\n",
    "# print(arr.dtype)\n",
    "# print(arr.shape)\n",
    "# print(arr.ndim)\n",
    "# print(arr.size)\n",
    "\n",
    "# np.random.randint(start,end, shape) \n",
    "arr = np.random.randint(1,10,(3,3))\n",
    "# print(arr)\n",
    "# print(type(arr))\n",
    "# print(arr.dtype)\n",
    "# print(arr.shape)\n",
    "# print(arr.ndim)\n",
    "# print(arr.size)\n",
    "\n",
    "# np.random.uniform(start,end, shape) \n",
    "\n",
    "arr = np.random.uniform(1,10,(3,3))\n",
    "print(arr)\n",
    "print(type(arr))\n",
    "print(arr.dtype)\n",
    "print(arr.shape)\n",
    "print(arr.ndim)\n",
    "print(arr.size)\n",
    "\n"
   ]
  },
  {
   "cell_type": "markdown",
   "id": "0e568d9d",
   "metadata": {},
   "source": [
    "##Array Creation With Range Function"
   ]
  },
  {
   "cell_type": "code",
   "execution_count": 9,
   "id": "dc6cc5fe",
   "metadata": {},
   "outputs": [
    {
     "name": "stdout",
     "output_type": "stream",
     "text": [
      "[1.00000000e+01 1.77827941e+03 3.16227766e+05 5.62341325e+07\n",
      " 1.00000000e+10]\n",
      "<class 'numpy.ndarray'>\n",
      "float64\n",
      "(5,)\n",
      "1\n",
      "5\n"
     ]
    }
   ],
   "source": [
    "# np.arange(first , end , step ) \n",
    "\n",
    "arr = np.arange(1,10,2)\n",
    "# print(arr)\n",
    "# print(type(arr))\n",
    "# print(arr.dtype)\n",
    "# print(arr.shape)\n",
    "# print(arr.ndim)\n",
    "# print(arr.size)\n",
    "\n",
    "# np.linspace(start , end(included) , steps )\n",
    "\n",
    "arr = np.linspace(1,10,5)\n",
    "# print(arr)\n",
    "# print(type(arr))\n",
    "# print(arr.dtype)\n",
    "# print(arr.shape)\n",
    "# print(arr.ndim)\n",
    "# print(arr.size)\n",
    "\n",
    "\n",
    "# np.logspace(start , end(included) , steps )\n",
    "\n",
    "arr = np.logspace(1,10,5)\n",
    "print(arr)\n",
    "print(type(arr))\n",
    "print(arr.dtype)\n",
    "print(arr.shape)\n",
    "print(arr.ndim)\n",
    "print(arr.size)\n",
    "\n"
   ]
  },
  {
   "cell_type": "markdown",
   "id": "41677842",
   "metadata": {},
   "source": [
    "##creating matrix for Linear algebra"
   ]
  },
  {
   "cell_type": "code",
   "execution_count": 13,
   "id": "e0ff36f3",
   "metadata": {},
   "outputs": [
    {
     "name": "stdout",
     "output_type": "stream",
     "text": [
      "[[1. 0. 0.]\n",
      " [0. 1. 0.]\n",
      " [0. 0. 1.]]\n"
     ]
    }
   ],
   "source": [
    "diagonal_mat = np.diag([1,2,3])\n",
    "\n",
    "\n",
    "# print(diagonal_mat)\n",
    "\n",
    "identity_mat = np.eye(3)\n",
    "print(identity_mat)\n",
    "\n"
   ]
  },
  {
   "cell_type": "markdown",
   "id": "ab55abab",
   "metadata": {},
   "source": [
    "##indexing and slicing"
   ]
  },
  {
   "cell_type": "code",
   "execution_count": 20,
   "id": "263b5cc4",
   "metadata": {},
   "outputs": [
    {
     "name": "stdout",
     "output_type": "stream",
     "text": [
      "1\n",
      "6\n"
     ]
    }
   ],
   "source": [
    "#indexing\n",
    "\n",
    "arr = np.array([1,2,3,4,5,6])\n",
    "\n",
    "arr2 = np.array(\n",
    "    [\n",
    "\n",
    "    [1,2,3],\n",
    "    [4,5,6]\n",
    "     \n",
    "     \n",
    "     ]\n",
    "    \n",
    "    \n",
    "    )\n",
    "\n",
    "print(arr[0])\n",
    "print(arr2[1][2])\n",
    "\n"
   ]
  },
  {
   "cell_type": "code",
   "execution_count": null,
   "id": "6db60452",
   "metadata": {},
   "outputs": [
    {
     "name": "stdout",
     "output_type": "stream",
     "text": [
      "[2 4]\n",
      "[100   2   3   4   5   6]\n"
     ]
    }
   ],
   "source": [
    "# 1DSlicing\n",
    "# Syntax : arr[start:end:step] \n",
    "\n",
    "arr = np.array([1,2,3,4,5,6])\n",
    "\n",
    "print(arr[1:4:2])\n",
    "\n",
    "#modified array value\n",
    "\n",
    "arr[0] = 100\n",
    "print(arr)"
   ]
  },
  {
   "cell_type": "code",
   "execution_count": 27,
   "id": "bdc0507d",
   "metadata": {},
   "outputs": [
    {
     "name": "stdout",
     "output_type": "stream",
     "text": [
      "[[1]\n",
      " [4]\n",
      " [7]]\n"
     ]
    }
   ],
   "source": [
    "#2D Array Slicing\n",
    "#Syntax : arr[row_start:row_end:step , col_start:col_end:step]\n",
    "\n",
    "arr = np.array(\n",
    "    [\n",
    "        [1,2,3],\n",
    "        [4,5,6],\n",
    "        [7,8,9]\n",
    "    ]\n",
    ")\n",
    "\n",
    "\n",
    "\n",
    "# print(arr[1:3,1:3])\n",
    "\n",
    "#get a column\n",
    "\n",
    "col_0 = arr[:,0:1]\n",
    "\n",
    "print(col_0)"
   ]
  },
  {
   "cell_type": "markdown",
   "id": "ee6c0d1b",
   "metadata": {},
   "source": [
    "##advance indexing"
   ]
  },
  {
   "cell_type": "code",
   "execution_count": 30,
   "id": "ab76e0f9",
   "metadata": {},
   "outputs": [
    {
     "name": "stdout",
     "output_type": "stream",
     "text": [
      "[10 40 20]\n"
     ]
    }
   ],
   "source": [
    "arr = np.array([ 10 , 20 ,30 ,40 ]) \n",
    "\n",
    "values = arr[[0,3,1]]\n",
    "\n",
    "print(values)"
   ]
  },
  {
   "cell_type": "code",
   "execution_count": null,
   "id": "0ae3822c",
   "metadata": {},
   "outputs": [
    {
     "ename": "IndexError",
     "evalue": "boolean index did not match indexed array along dimension 0; dimension is 2 but corresponding boolean dimension is 3",
     "output_type": "error",
     "traceback": [
      "\u001b[31m---------------------------------------------------------------------------\u001b[39m",
      "\u001b[31mIndexError\u001b[39m                                Traceback (most recent call last)",
      "\u001b[36mCell\u001b[39m\u001b[36m \u001b[39m\u001b[32mIn[32]\u001b[39m\u001b[32m, line 12\u001b[39m\n\u001b[32m     10\u001b[39m values = arr[[\u001b[32m1\u001b[39m,\u001b[32m2\u001b[39m],[\u001b[32m0\u001b[39m,\u001b[32m2\u001b[39m]]\n\u001b[32m     11\u001b[39m \u001b[38;5;66;03m#boolean \u001b[39;00m\n\u001b[32m---> \u001b[39m\u001b[32m12\u001b[39m \u001b[38;5;28mprint\u001b[39m(\u001b[43marr2\u001b[49m\u001b[43m[\u001b[49m\u001b[43marr\u001b[49m\u001b[43m>\u001b[49m\u001b[32;43m1\u001b[39;49m\u001b[43m]\u001b[49m)\n\u001b[32m     14\u001b[39m \u001b[38;5;28mprint\u001b[39m(values)\n",
      "\u001b[31mIndexError\u001b[39m: boolean index did not match indexed array along dimension 0; dimension is 2 but corresponding boolean dimension is 3"
     ]
    }
   ],
   "source": [
    "arr = np.array(\n",
    "    [\n",
    "        [1,2,3],\n",
    "        [4,5,6],\n",
    "        [7,8,9]\n",
    "    ]\n",
    ")\n",
    "\n",
    "\n",
    "values = arr[[1,2],[0,2]]\n",
    "\n",
    "\n",
    "print(values)"
   ]
  }
 ],
 "metadata": {
  "kernelspec": {
   "display_name": "Python 3",
   "language": "python",
   "name": "python3"
  },
  "language_info": {
   "codemirror_mode": {
    "name": "ipython",
    "version": 3
   },
   "file_extension": ".py",
   "mimetype": "text/x-python",
   "name": "python",
   "nbconvert_exporter": "python",
   "pygments_lexer": "ipython3",
   "version": "3.12.2"
  }
 },
 "nbformat": 4,
 "nbformat_minor": 5
}
