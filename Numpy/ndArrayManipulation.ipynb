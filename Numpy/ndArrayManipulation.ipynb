{
 "cells": [
  {
   "cell_type": "markdown",
   "id": "56ac19ac",
   "metadata": {},
   "source": [
    "## Shape changing"
   ]
  },
  {
   "cell_type": "code",
   "execution_count": 1,
   "id": "6fe15c4f",
   "metadata": {},
   "outputs": [
    {
     "name": "stdout",
     "output_type": "stream",
     "text": [
      "[[87 47 64 46 88]\n",
      " [53 97 18 30 57]\n",
      " [96 39 45 59 41]\n",
      " [35 59 25 19 27]\n",
      " [70 63 31 29 18]\n",
      " [35 33 94 84 69]\n",
      " [60 34 29 27 13]\n",
      " [95 19 46  4 57]\n",
      " [58 97  5 83 35]\n",
      " [26 18 16 13 14]]\n",
      "(10, 5)\n",
      "[[87 47 64 46 88 53 97 18 30 57]\n",
      " [96 39 45 59 41 35 59 25 19 27]\n",
      " [70 63 31 29 18 35 33 94 84 69]\n",
      " [60 34 29 27 13 95 19 46  4 57]\n",
      " [58 97  5 83 35 26 18 16 13 14]]\n",
      "(5, 10)\n"
     ]
    }
   ],
   "source": [
    "import numpy as np\n",
    "\n",
    "arr = np.random.randint(1,100, size =(10,5))\n",
    "print(arr)\n",
    "print(arr.shape)\n",
    "arr_reshaped = arr.reshape(5,10)\n",
    "print(arr_reshaped)\n",
    "print(arr_reshaped.shape)"
   ]
  },
  {
   "cell_type": "markdown",
   "id": "7f0d9e3e",
   "metadata": {},
   "source": [
    "##Concatenate "
   ]
  },
  {
   "cell_type": "code",
   "execution_count": 4,
   "id": "b3340f85",
   "metadata": {},
   "outputs": [
    {
     "name": "stdout",
     "output_type": "stream",
     "text": [
      "[[ 1  2  3]\n",
      " [ 4  5  6]\n",
      " [ 7  8  9]\n",
      " [10 11 12]]\n",
      "[[ 1  2  3  7  8  9]\n",
      " [ 4  5  6 10 11 12]]\n"
     ]
    }
   ],
   "source": [
    "a= np.array([[1,2,3],\n",
    "               [4,5,6]])\n",
    "b = np.array([[7,8,9],\n",
    "               [10,11,12]])\n",
    "con_row = np.concatenate((a,b),axis=0) # row wise \n",
    "\n",
    "print(con_row)\n",
    "\n",
    "con_col = np.concatenate((a,b), axis = 1) # column wise \n",
    "\n",
    "print(con_col)"
   ]
  },
  {
   "cell_type": "markdown",
   "id": "51a52063",
   "metadata": {},
   "source": [
    "##Transpose"
   ]
  },
  {
   "cell_type": "code",
   "execution_count": 5,
   "id": "3d0f058e",
   "metadata": {},
   "outputs": [
    {
     "name": "stdout",
     "output_type": "stream",
     "text": [
      "[[10 30]\n",
      " [20 40]\n",
      " [30 50]]\n"
     ]
    }
   ],
   "source": [
    "mat = np.array([[10,20,30],\n",
    "                [30,40,50]\n",
    "               ])\n",
    "\n",
    "\n",
    "transpose = mat.T\n",
    "\n",
    "print(transpose) "
   ]
  },
  {
   "cell_type": "markdown",
   "id": "d1d4f896",
   "metadata": {},
   "source": [
    "## Split Array"
   ]
  },
  {
   "cell_type": "code",
   "execution_count": null,
   "id": "66edd7de",
   "metadata": {},
   "outputs": [
    {
     "name": "stdout",
     "output_type": "stream",
     "text": [
      "[3 7 5 5 3 5 5 3 8 5]\n",
      "[array([3, 7, 5, 5]), array([3, 5, 5]), array([3, 8, 5])]\n"
     ]
    }
   ],
   "source": [
    "\n",
    "\n",
    "a = np.random.randint(1 ,10 , size =(10,))\n",
    "print(a)\n",
    "splitted_array = np.array_split(a,3) \n",
    "\n",
    "\n",
    "\n",
    "print(splitted_array)"
   ]
  },
  {
   "cell_type": "markdown",
   "id": "8b933dc2",
   "metadata": {},
   "source": [
    "##arithmetic operator and mathematical functions"
   ]
  },
  {
   "cell_type": "code",
   "execution_count": 7,
   "id": "61ee4c46",
   "metadata": {},
   "outputs": [
    {
     "name": "stdout",
     "output_type": "stream",
     "text": [
      "[ 12  11  34 105]\n",
      "[ 8  5 26 95]\n",
      "[ 20  24 120 500]\n",
      "[ 5.          2.66666667  7.5        20.        ]\n",
      "[0 2 2 0]\n"
     ]
    }
   ],
   "source": [
    "x = np.array([ 10 , 8 , 30 , 100 ])\n",
    "y = np.array([ 2 , 3 ,4  ,5 ]) \n",
    "\n",
    "add = np.add(x,y) \n",
    "print(add)\n",
    "\n",
    "sub = x-y \n",
    "print(sub)\n",
    "\n",
    "mul = x*y \n",
    "print(mul) \n",
    "\n",
    "div = x/y \n",
    "print(div) \n",
    "\n",
    "remainder = x % y\n",
    "\n",
    "print(remainder) "
   ]
  },
  {
   "cell_type": "markdown",
   "id": "0fd2f2a7",
   "metadata": {},
   "source": [
    "### mathematical function "
   ]
  },
  {
   "cell_type": "code",
   "execution_count": 8,
   "id": "72b735ad",
   "metadata": {},
   "outputs": [
    {
     "name": "stdout",
     "output_type": "stream",
     "text": [
      "[-0.54402111  0.98935825 -0.98803162 -0.50636564]\n",
      "[-0.83907153 -0.14550003  0.15425145  0.86231887]\n",
      "[ 572.95779513  458.3662361  1718.87338539 5729.57795131]\n"
     ]
    }
   ],
   "source": [
    "# trigonometry \n",
    "\n",
    "# sin , cos , tan takes values in radian \n",
    "\n",
    "sin_val = np.sin(x)\n",
    "print(sin_val) \n",
    "\n",
    "cos_val = np.cos(x)\n",
    "print(cos_val) \n",
    "\n",
    "deg_con = np.rad2deg(x)\n",
    "print(deg_con)"
   ]
  },
  {
   "cell_type": "code",
   "execution_count": 9,
   "id": "b5b63770",
   "metadata": {},
   "outputs": [
    {
     "name": "stdout",
     "output_type": "stream",
     "text": [
      "[1.         0.90308999 1.20411998 2.        ]\n",
      "[3.32192809 3.         4.         6.64385619]\n",
      "[ 3.16227766  2.82842712  4.         10.        ]\n"
     ]
    }
   ],
   "source": [
    "#log\n",
    "x = np.array([ 10 , 8 , 16 , 100 ])\n",
    "base_10_log_val = np.log10(x)\n",
    "print(base_10_log_val)\n",
    "\n",
    "\n",
    "two_diye_bhag = np.log2(x) \n",
    "print(two_diye_bhag)\n",
    "\n",
    "sqrt= np.sqrt(x)\n",
    "print(sqrt)"
   ]
  },
  {
   "cell_type": "code",
   "execution_count": 12,
   "id": "28c5f4a4",
   "metadata": {},
   "outputs": [
    {
     "name": "stdout",
     "output_type": "stream",
     "text": [
      "134\n",
      "[ 10  18  34 134]\n"
     ]
    }
   ],
   "source": [
    "x = np.array([ 10 , 8 , 16 , 100 ])\n",
    "s = np.sum(x)\n",
    "print(s)\n",
    "\n",
    "#prefix sum \n",
    "cumul =np.cumsum(x)\n",
    "print(cumul)"
   ]
  },
  {
   "cell_type": "markdown",
   "id": "65ffb49d",
   "metadata": {},
   "source": [
    "##broadCasting"
   ]
  },
  {
   "cell_type": "code",
   "execution_count": 13,
   "id": "51b2a5aa",
   "metadata": {},
   "outputs": [
    {
     "name": "stdout",
     "output_type": "stream",
     "text": [
      "[ 12  10  18 102]\n",
      "[[12 22 32]\n",
      " [32 42 52]]\n"
     ]
    }
   ],
   "source": [
    "\n",
    "x = np.array([ 10 , 8 , 16 , 100 ])\n",
    "\n",
    "result = x + 2 \n",
    "\n",
    "\n",
    "print(result)\n",
    "matrix = np.array([[10,20,30],\n",
    "                [30,40,50]\n",
    "               ])\n",
    "\n",
    "\n",
    "result = matrix + 2 \n",
    "\n",
    "print(result)"
   ]
  },
  {
   "cell_type": "markdown",
   "id": "106efac7",
   "metadata": {},
   "source": [
    "##Logical Function"
   ]
  },
  {
   "cell_type": "code",
   "execution_count": 14,
   "id": "d8a9f0f1",
   "metadata": {},
   "outputs": [
    {
     "name": "stdout",
     "output_type": "stream",
     "text": [
      "[ True  True False  True]\n",
      "[False False  True False]\n",
      "False\n",
      "True\n"
     ]
    }
   ],
   "source": [
    "x = np.array([ 10 , 8 , 16 , 100 ])\n",
    "y = np.array([ 2 , 3 ,16  ,5 ]) \n",
    "\n",
    "greater_than = x>y \n",
    "\n",
    "print(greater_than)\n",
    "\n",
    "equal = x==y \n",
    "\n",
    "print(equal) \n",
    "\n",
    "\n",
    "print(np.all(greater_than)) \n",
    "\n",
    "print(np.any(equal))"
   ]
  },
  {
   "cell_type": "markdown",
   "id": "82fe8e7b",
   "metadata": {},
   "source": [
    "##Sorting"
   ]
  },
  {
   "cell_type": "code",
   "execution_count": 15,
   "id": "d3dbb469",
   "metadata": {},
   "outputs": [
    {
     "name": "stdout",
     "output_type": "stream",
     "text": [
      "[ 10   8  16 100]\n",
      "[  8  10  16 100]\n"
     ]
    }
   ],
   "source": [
    "#inplace \n",
    "x = np.array([ 10 , 8 , 16 , 100 ])\n",
    "\n",
    "z = x.copy()\n",
    "\n",
    "print(z) \n",
    "\n",
    "z.sort()\n",
    "\n",
    "print(z)"
   ]
  },
  {
   "cell_type": "markdown",
   "id": "6969bd69",
   "metadata": {},
   "source": [
    "##Searching"
   ]
  },
  {
   "cell_type": "code",
   "execution_count": 16,
   "id": "8e1b6ca3",
   "metadata": {},
   "outputs": [
    {
     "name": "stdout",
     "output_type": "stream",
     "text": [
      "(array([1], dtype=int64),)\n",
      "[ 10   0  16 100]\n"
     ]
    }
   ],
   "source": [
    "# np.where( condition , x , y ) if true x , otherwise replace with y \n",
    "\n",
    "index = np.where(x==8) # returns index\n",
    "print(index)\n",
    "\n",
    "arr = np.where(x>8,x,0) # returns array \n",
    "print(arr)"
   ]
  }
 ],
 "metadata": {
  "kernelspec": {
   "display_name": "Python 3",
   "language": "python",
   "name": "python3"
  },
  "language_info": {
   "codemirror_mode": {
    "name": "ipython",
    "version": 3
   },
   "file_extension": ".py",
   "mimetype": "text/x-python",
   "name": "python",
   "nbconvert_exporter": "python",
   "pygments_lexer": "ipython3",
   "version": "3.12.2"
  }
 },
 "nbformat": 4,
 "nbformat_minor": 5
}
